{
 "cells": [
  {
   "cell_type": "code",
   "execution_count": 6,
   "metadata": {},
   "outputs": [
    {
     "name": "stdout",
     "output_type": "stream",
     "text": [
      "1985    740120\n",
      "1995    744987\n",
      "2005    756629\n",
      "2015    762508\n",
      "2019    774839\n",
      "2023    804237\n",
      "dtype: int64\n",
      "count         6.000000\n",
      "mean     763886.666667\n",
      "std       23344.075468\n",
      "min      740120.000000\n",
      "25%      747897.500000\n",
      "50%      759568.500000\n",
      "75%      771756.250000\n",
      "max      804237.000000\n",
      "dtype: float64\n"
     ]
    }
   ],
   "source": [
    "import pandas as pd\n",
    "population = {'1985': 740120, '1995' : 744987, '2005': 756629, '2015': 762508, '2019': 774839, '2023': 804237}\n",
    "ds = pd.Series(data=population)\n",
    "print(ds)\n",
    "print(ds.describe())"
   ]
  },
  {
   "cell_type": "code",
   "execution_count": 7,
   "metadata": {},
   "outputs": [
    {
     "data": {
      "text/plain": [
       "756629"
      ]
     },
     "execution_count": 7,
     "metadata": {},
     "output_type": "execute_result"
    }
   ],
   "source": [
    "ds['2005']"
   ]
  },
  {
   "cell_type": "code",
   "execution_count": 8,
   "metadata": {},
   "outputs": [
    {
     "data": {
      "text/plain": [
       "763886.6666666666"
      ]
     },
     "execution_count": 8,
     "metadata": {},
     "output_type": "execute_result"
    }
   ],
   "source": [
    "ds.mean()"
   ]
  },
  {
   "cell_type": "code",
   "execution_count": 9,
   "metadata": {},
   "outputs": [
    {
     "data": {
      "text/plain": [
       "count         6.000000\n",
       "mean     763886.666667\n",
       "std       23344.075468\n",
       "min      740120.000000\n",
       "25%      747897.500000\n",
       "50%      759568.500000\n",
       "75%      771756.250000\n",
       "max      804237.000000\n",
       "dtype: float64"
      ]
     },
     "execution_count": 9,
     "metadata": {},
     "output_type": "execute_result"
    }
   ],
   "source": [
    "ds.describe()"
   ]
  }
 ],
 "metadata": {
  "kernelspec": {
   "display_name": "Python 3",
   "language": "python",
   "name": "python3"
  },
  "language_info": {
   "codemirror_mode": {
    "name": "ipython",
    "version": 3
   },
   "file_extension": ".py",
   "mimetype": "text/x-python",
   "name": "python",
   "nbconvert_exporter": "python",
   "pygments_lexer": "ipython3",
   "version": "3.8.2"
  }
 },
 "nbformat": 4,
 "nbformat_minor": 2
}
